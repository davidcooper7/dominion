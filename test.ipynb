{
 "cells": [
  {
   "cell_type": "code",
   "execution_count": 1,
   "id": "cc490650-b4dd-45b2-af4c-9a4626a81a8c",
   "metadata": {},
   "outputs": [],
   "source": [
    "from player import Player\n",
    "from supply import Supply\n",
    "from cards import *"
   ]
  },
  {
   "cell_type": "code",
   "execution_count": 2,
   "id": "7ea33953-4cff-42a7-9e06-64f5d416d416",
   "metadata": {},
   "outputs": [
    {
     "data": {
      "text/html": [
       "<div>\n",
       "<style scoped>\n",
       "    .dataframe tbody tr th:only-of-type {\n",
       "        vertical-align: middle;\n",
       "    }\n",
       "\n",
       "    .dataframe tbody tr th {\n",
       "        vertical-align: top;\n",
       "    }\n",
       "\n",
       "    .dataframe thead th {\n",
       "        text-align: right;\n",
       "    }\n",
       "</style>\n",
       "<table border=\"1\" class=\"dataframe\">\n",
       "  <thead>\n",
       "    <tr style=\"text-align: right;\">\n",
       "      <th></th>\n",
       "      <th>Copper</th>\n",
       "      <th>Silver</th>\n",
       "      <th>Gold</th>\n",
       "      <th>Curse</th>\n",
       "      <th>Estate</th>\n",
       "      <th>Duchy</th>\n",
       "      <th>Province</th>\n",
       "      <th>Cellar</th>\n",
       "      <th>Chapel</th>\n",
       "    </tr>\n",
       "  </thead>\n",
       "  <tbody>\n",
       "    <tr>\n",
       "      <th>Shorthand</th>\n",
       "      <td>c</td>\n",
       "      <td>s</td>\n",
       "      <td>g</td>\n",
       "      <td>crs</td>\n",
       "      <td>e</td>\n",
       "      <td>d</td>\n",
       "      <td>p</td>\n",
       "      <td>clr</td>\n",
       "      <td>chp</td>\n",
       "    </tr>\n",
       "    <tr>\n",
       "      <th>Qty</th>\n",
       "      <td>58</td>\n",
       "      <td>40</td>\n",
       "      <td>30</td>\n",
       "      <td>10</td>\n",
       "      <td>8</td>\n",
       "      <td>8</td>\n",
       "      <td>8</td>\n",
       "      <td>10</td>\n",
       "      <td>10</td>\n",
       "    </tr>\n",
       "    <tr>\n",
       "      <th>Cost</th>\n",
       "      <td>1</td>\n",
       "      <td>3</td>\n",
       "      <td>6</td>\n",
       "      <td>0</td>\n",
       "      <td>2</td>\n",
       "      <td>5</td>\n",
       "      <td>8</td>\n",
       "      <td>2</td>\n",
       "      <td>2</td>\n",
       "    </tr>\n",
       "    <tr>\n",
       "      <th>Description</th>\n",
       "      <td></td>\n",
       "      <td></td>\n",
       "      <td></td>\n",
       "      <td></td>\n",
       "      <td></td>\n",
       "      <td></td>\n",
       "      <td></td>\n",
       "      <td>Discard any number of cards. +1 Card per card discarded.</td>\n",
       "      <td>Trash up to 4 cards from your hand.</td>\n",
       "    </tr>\n",
       "  </tbody>\n",
       "</table>\n",
       "</div>"
      ],
      "text/plain": [
       "            Copper Silver Gold Curse Estate Duchy Province  \\\n",
       "Shorthand    c      s      g    crs   e      d     p         \n",
       "Qty          58     40     30   10    8      8     8         \n",
       "Cost         1      3      6    0     2      5     8         \n",
       "Description                                                  \n",
       "\n",
       "                                                               Cellar  \\\n",
       "Shorthand    clr                                                        \n",
       "Qty          10                                                         \n",
       "Cost         2                                                          \n",
       "Description  Discard any number of cards. +1 Card per card discarded.   \n",
       "\n",
       "                                          Chapel  \n",
       "Shorthand    chp                                  \n",
       "Qty          10                                   \n",
       "Cost         2                                    \n",
       "Description  Trash up to 4 cards from your hand.  "
      ]
     },
     "metadata": {},
     "output_type": "display_data"
    }
   ],
   "source": [
    "s = Supply(2, ['Cellar', 'Chapel'])"
   ]
  },
  {
   "cell_type": "code",
   "execution_count": 3,
   "id": "4b33c833-1ce2-4eb0-9d5d-57311f76b078",
   "metadata": {},
   "outputs": [
    {
     "data": {
      "text/plain": [
       "[]"
      ]
     },
     "execution_count": 3,
     "metadata": {},
     "output_type": "execute_result"
    }
   ],
   "source": [
    "p = Player('George')\n",
    "p.hand"
   ]
  },
  {
   "cell_type": "code",
   "execution_count": null,
   "id": "89e4d5b9-eec1-4c91-b527-e2f402bbf8fa",
   "metadata": {},
   "outputs": [
    {
     "name": "stdout",
     "output_type": "stream",
     "text": [
      "Playing Actions...\n",
      "No Action Cards.\n",
      "Buying Cards...\n"
     ]
    },
    {
     "data": {
      "text/html": [
       "<div>\n",
       "<style scoped>\n",
       "    .dataframe tbody tr th:only-of-type {\n",
       "        vertical-align: middle;\n",
       "    }\n",
       "\n",
       "    .dataframe tbody tr th {\n",
       "        vertical-align: top;\n",
       "    }\n",
       "\n",
       "    .dataframe thead th {\n",
       "        text-align: right;\n",
       "    }\n",
       "</style>\n",
       "<table border=\"1\" class=\"dataframe\">\n",
       "  <thead>\n",
       "    <tr style=\"text-align: right;\">\n",
       "      <th></th>\n",
       "      <th>Copper</th>\n",
       "      <th>Silver</th>\n",
       "      <th>Gold</th>\n",
       "      <th>Curse</th>\n",
       "      <th>Estate</th>\n",
       "      <th>Duchy</th>\n",
       "      <th>Province</th>\n",
       "      <th>Cellar</th>\n",
       "      <th>Chapel</th>\n",
       "    </tr>\n",
       "  </thead>\n",
       "  <tbody>\n",
       "    <tr>\n",
       "      <th>Shorthand</th>\n",
       "      <td>c</td>\n",
       "      <td>s</td>\n",
       "      <td>g</td>\n",
       "      <td>crs</td>\n",
       "      <td>e</td>\n",
       "      <td>d</td>\n",
       "      <td>p</td>\n",
       "      <td>clr</td>\n",
       "      <td>chp</td>\n",
       "    </tr>\n",
       "    <tr>\n",
       "      <th>Qty</th>\n",
       "      <td>58</td>\n",
       "      <td>40</td>\n",
       "      <td>30</td>\n",
       "      <td>10</td>\n",
       "      <td>8</td>\n",
       "      <td>8</td>\n",
       "      <td>8</td>\n",
       "      <td>10</td>\n",
       "      <td>10</td>\n",
       "    </tr>\n",
       "    <tr>\n",
       "      <th>Cost</th>\n",
       "      <td>1</td>\n",
       "      <td>3</td>\n",
       "      <td>6</td>\n",
       "      <td>0</td>\n",
       "      <td>2</td>\n",
       "      <td>5</td>\n",
       "      <td>8</td>\n",
       "      <td>2</td>\n",
       "      <td>2</td>\n",
       "    </tr>\n",
       "    <tr>\n",
       "      <th>Description</th>\n",
       "      <td></td>\n",
       "      <td></td>\n",
       "      <td></td>\n",
       "      <td></td>\n",
       "      <td></td>\n",
       "      <td></td>\n",
       "      <td></td>\n",
       "      <td>Discard any number of cards. +1 Card per card discarded.</td>\n",
       "      <td>Trash up to 4 cards from your hand.</td>\n",
       "    </tr>\n",
       "  </tbody>\n",
       "</table>\n",
       "</div>"
      ],
      "text/plain": [
       "            Copper Silver Gold Curse Estate Duchy Province  \\\n",
       "Shorthand    c      s      g    crs   e      d     p         \n",
       "Qty          58     40     30   10    8      8     8         \n",
       "Cost         1      3      6    0     2      5     8         \n",
       "Description                                                  \n",
       "\n",
       "                                                               Cellar  \\\n",
       "Shorthand    clr                                                        \n",
       "Qty          10                                                         \n",
       "Cost         2                                                          \n",
       "Description  Discard any number of cards. +1 Card per card discarded.   \n",
       "\n",
       "                                          Chapel  \n",
       "Shorthand    chp                                  \n",
       "Qty          10                                   \n",
       "Cost         2                                    \n",
       "Description  Trash up to 4 cards from your hand.  "
      ]
     },
     "metadata": {},
     "output_type": "display_data"
    },
    {
     "name": "stdout",
     "output_type": "stream",
     "text": [
      "+-------------+  +-------------+  +-------------+  +-------------+  +-------------+\n",
      "|             |  |             |  |             |  |             |  |             |\n",
      "|    Estate   |  |    Copper   |  |    Copper   |  |    Copper   |  |    Copper   |\n",
      "|             |  |             |  |             |  |             |  |             |\n",
      "|   +0 Card   |  |   +0 Card   |  |   +0 Card   |  |   +0 Card   |  |   +0 Card   |\n",
      "|  +0 Action  |  |  +0 Action  |  |  +0 Action  |  |  +0 Action  |  |  +0 Action  |\n",
      "|    +0 Buy   |  |    +0 Buy   |  |    +0 Buy   |  |    +0 Buy   |  |    +0 Buy   |\n",
      "|      +0     |  |      +1     |  |      +1     |  |      +1     |  |      +1     |\n",
      "|             |  |             |  |             |  |             |  |             |\n",
      "| 2           |  | 0           |  | 0           |  | 0           |  | 0           |\n",
      "+-------------+  +-------------+  +-------------+  +-------------+  +-------------+\n"
     ]
    },
    {
     "name": "stdin",
     "output_type": "stream",
     "text": [
      "You have 4 to spend on 1 buys. What would you like to buy? (card name or N/n) chp\n"
     ]
    },
    {
     "name": "stdout",
     "output_type": "stream",
     "text": [
      "Buying Chapel\n",
      "Playing Actions...\n",
      "No Action Cards.\n",
      "Buying Cards...\n"
     ]
    },
    {
     "data": {
      "text/html": [
       "<div>\n",
       "<style scoped>\n",
       "    .dataframe tbody tr th:only-of-type {\n",
       "        vertical-align: middle;\n",
       "    }\n",
       "\n",
       "    .dataframe tbody tr th {\n",
       "        vertical-align: top;\n",
       "    }\n",
       "\n",
       "    .dataframe thead th {\n",
       "        text-align: right;\n",
       "    }\n",
       "</style>\n",
       "<table border=\"1\" class=\"dataframe\">\n",
       "  <thead>\n",
       "    <tr style=\"text-align: right;\">\n",
       "      <th></th>\n",
       "      <th>Copper</th>\n",
       "      <th>Silver</th>\n",
       "      <th>Gold</th>\n",
       "      <th>Curse</th>\n",
       "      <th>Estate</th>\n",
       "      <th>Duchy</th>\n",
       "      <th>Province</th>\n",
       "      <th>Cellar</th>\n",
       "      <th>Chapel</th>\n",
       "    </tr>\n",
       "  </thead>\n",
       "  <tbody>\n",
       "    <tr>\n",
       "      <th>Shorthand</th>\n",
       "      <td>c</td>\n",
       "      <td>s</td>\n",
       "      <td>g</td>\n",
       "      <td>crs</td>\n",
       "      <td>e</td>\n",
       "      <td>d</td>\n",
       "      <td>p</td>\n",
       "      <td>clr</td>\n",
       "      <td>chp</td>\n",
       "    </tr>\n",
       "    <tr>\n",
       "      <th>Qty</th>\n",
       "      <td>58</td>\n",
       "      <td>40</td>\n",
       "      <td>30</td>\n",
       "      <td>10</td>\n",
       "      <td>8</td>\n",
       "      <td>8</td>\n",
       "      <td>8</td>\n",
       "      <td>10</td>\n",
       "      <td>9</td>\n",
       "    </tr>\n",
       "    <tr>\n",
       "      <th>Cost</th>\n",
       "      <td>1</td>\n",
       "      <td>3</td>\n",
       "      <td>6</td>\n",
       "      <td>0</td>\n",
       "      <td>2</td>\n",
       "      <td>5</td>\n",
       "      <td>8</td>\n",
       "      <td>2</td>\n",
       "      <td>2</td>\n",
       "    </tr>\n",
       "    <tr>\n",
       "      <th>Description</th>\n",
       "      <td></td>\n",
       "      <td></td>\n",
       "      <td></td>\n",
       "      <td></td>\n",
       "      <td></td>\n",
       "      <td></td>\n",
       "      <td></td>\n",
       "      <td>Discard any number of cards. +1 Card per card discarded.</td>\n",
       "      <td>Trash up to 4 cards from your hand.</td>\n",
       "    </tr>\n",
       "  </tbody>\n",
       "</table>\n",
       "</div>"
      ],
      "text/plain": [
       "            Copper Silver Gold Curse Estate Duchy Province  \\\n",
       "Shorthand    c      s      g    crs   e      d     p         \n",
       "Qty          58     40     30   10    8      8     8         \n",
       "Cost         1      3      6    0     2      5     8         \n",
       "Description                                                  \n",
       "\n",
       "                                                               Cellar  \\\n",
       "Shorthand    clr                                                        \n",
       "Qty          10                                                         \n",
       "Cost         2                                                          \n",
       "Description  Discard any number of cards. +1 Card per card discarded.   \n",
       "\n",
       "                                          Chapel  \n",
       "Shorthand    chp                                  \n",
       "Qty          9                                    \n",
       "Cost         2                                    \n",
       "Description  Trash up to 4 cards from your hand.  "
      ]
     },
     "metadata": {},
     "output_type": "display_data"
    },
    {
     "name": "stdout",
     "output_type": "stream",
     "text": [
      "+-------------+  +-------------+  +-------------+  +-------------+  +-------------+\n",
      "|             |  |             |  |             |  |             |  |             |\n",
      "|    Estate   |  |    Copper   |  |    Copper   |  |    Copper   |  |    Estate   |\n",
      "|             |  |             |  |             |  |             |  |             |\n",
      "|   +0 Card   |  |   +0 Card   |  |   +0 Card   |  |   +0 Card   |  |   +0 Card   |\n",
      "|  +0 Action  |  |  +0 Action  |  |  +0 Action  |  |  +0 Action  |  |  +0 Action  |\n",
      "|    +0 Buy   |  |    +0 Buy   |  |    +0 Buy   |  |    +0 Buy   |  |    +0 Buy   |\n",
      "|      +0     |  |      +1     |  |      +1     |  |      +1     |  |      +0     |\n",
      "|             |  |             |  |             |  |             |  |             |\n",
      "| 2           |  | 0           |  | 0           |  | 0           |  | 2           |\n",
      "+-------------+  +-------------+  +-------------+  +-------------+  +-------------+\n"
     ]
    },
    {
     "name": "stdin",
     "output_type": "stream",
     "text": [
      "You have 3 to spend on 1 buys. What would you like to buy? (card name or N/n) chp\n"
     ]
    },
    {
     "name": "stdout",
     "output_type": "stream",
     "text": [
      "Buying Chapel\n",
      "Playing Actions...\n",
      "+-------------+  +-------------+  +-------------+  +-------------+  +-------------+\n",
      "|             |  |             |  |             |  |             |  |             |\n",
      "|    Copper   |  |    Copper   |  |    Copper   |  |    Chapel   |  |    Copper   |\n",
      "|             |  |             |  |             |  |             |  |             |\n",
      "|   +0 Card   |  |   +0 Card   |  |   +0 Card   |  |   +0 Card   |  |   +0 Card   |\n",
      "|  +0 Action  |  |  +0 Action  |  |  +0 Action  |  |  +0 Action  |  |  +0 Action  |\n",
      "|    +0 Buy   |  |    +0 Buy   |  |    +0 Buy   |  |    +0 Buy   |  |    +0 Buy   |\n",
      "|      +1     |  |      +1     |  |      +1     |  |      +0     |  |      +1     |\n",
      "|             |  |             |  |             |  |             |  |             |\n",
      "| 0           |  | 0           |  | 0           |  | 2           |  | 0           |\n",
      "+-------------+  +-------------+  +-------------+  +-------------+  +-------------+\n"
     ]
    },
    {
     "name": "stdin",
     "output_type": "stream",
     "text": [
      "George has [] in-play with:\n",
      "\t1 actions remaining\n",
      "\t1 buys remaining\n",
      "\t0 value in-play\n",
      "What action would George like to play? (card name or N/n) chp\n"
     ]
    },
    {
     "name": "stdout",
     "output_type": "stream",
     "text": [
      "+-------------+  +-------------+  +-------------+  +-------------+\n",
      "|             |  |             |  |             |  |             |\n",
      "|    Copper   |  |    Copper   |  |    Copper   |  |    Copper   |\n",
      "|             |  |             |  |             |  |             |\n",
      "|   +0 Card   |  |   +0 Card   |  |   +0 Card   |  |   +0 Card   |\n",
      "|  +0 Action  |  |  +0 Action  |  |  +0 Action  |  |  +0 Action  |\n",
      "|    +0 Buy   |  |    +0 Buy   |  |    +0 Buy   |  |    +0 Buy   |\n",
      "|      +1     |  |      +1     |  |      +1     |  |      +1     |\n",
      "|             |  |             |  |             |  |             |\n",
      "| 0           |  | 0           |  | 0           |  | 0           |\n",
      "+-------------+  +-------------+  +-------------+  +-------------+\n"
     ]
    },
    {
     "name": "stdin",
     "output_type": "stream",
     "text": [
      "Would you like to trash a card? (card name or n/N) c\n"
     ]
    },
    {
     "name": "stdout",
     "output_type": "stream",
     "text": [
      "+-------------+  +-------------+  +-------------+\n",
      "|             |  |             |  |             |\n",
      "|    Copper   |  |    Copper   |  |    Copper   |\n",
      "|             |  |             |  |             |\n",
      "|   +0 Card   |  |   +0 Card   |  |   +0 Card   |\n",
      "|  +0 Action  |  |  +0 Action  |  |  +0 Action  |\n",
      "|    +0 Buy   |  |    +0 Buy   |  |    +0 Buy   |\n",
      "|      +1     |  |      +1     |  |      +1     |\n",
      "|             |  |             |  |             |\n",
      "| 0           |  | 0           |  | 0           |\n",
      "+-------------+  +-------------+  +-------------+\n"
     ]
    },
    {
     "name": "stdin",
     "output_type": "stream",
     "text": [
      "Would you like to trash a card? (card name or n/N) c\n"
     ]
    },
    {
     "name": "stdout",
     "output_type": "stream",
     "text": [
      "+-------------+  +-------------+\n",
      "|             |  |             |\n",
      "|    Copper   |  |    Copper   |\n",
      "|             |  |             |\n",
      "|   +0 Card   |  |   +0 Card   |\n",
      "|  +0 Action  |  |  +0 Action  |\n",
      "|    +0 Buy   |  |    +0 Buy   |\n",
      "|      +1     |  |      +1     |\n",
      "|             |  |             |\n",
      "| 0           |  | 0           |\n",
      "+-------------+  +-------------+\n"
     ]
    },
    {
     "name": "stdin",
     "output_type": "stream",
     "text": [
      "Would you like to trash a card? (card name or n/N) c\n"
     ]
    },
    {
     "name": "stdout",
     "output_type": "stream",
     "text": [
      "+-------------+\n",
      "|             |\n",
      "|    Copper   |\n",
      "|             |\n",
      "|   +0 Card   |\n",
      "|  +0 Action  |\n",
      "|    +0 Buy   |\n",
      "|      +1     |\n",
      "|             |\n",
      "| 0           |\n",
      "+-------------+\n"
     ]
    },
    {
     "name": "stdin",
     "output_type": "stream",
     "text": [
      "Would you like to trash a card? (card name or n/N) c\n"
     ]
    },
    {
     "name": "stdout",
     "output_type": "stream",
     "text": [
      "Buying Cards...\n"
     ]
    },
    {
     "data": {
      "text/html": [
       "<div>\n",
       "<style scoped>\n",
       "    .dataframe tbody tr th:only-of-type {\n",
       "        vertical-align: middle;\n",
       "    }\n",
       "\n",
       "    .dataframe tbody tr th {\n",
       "        vertical-align: top;\n",
       "    }\n",
       "\n",
       "    .dataframe thead th {\n",
       "        text-align: right;\n",
       "    }\n",
       "</style>\n",
       "<table border=\"1\" class=\"dataframe\">\n",
       "  <thead>\n",
       "    <tr style=\"text-align: right;\">\n",
       "      <th></th>\n",
       "      <th>Copper</th>\n",
       "      <th>Silver</th>\n",
       "      <th>Gold</th>\n",
       "      <th>Curse</th>\n",
       "      <th>Estate</th>\n",
       "      <th>Duchy</th>\n",
       "      <th>Province</th>\n",
       "      <th>Cellar</th>\n",
       "      <th>Chapel</th>\n",
       "    </tr>\n",
       "  </thead>\n",
       "  <tbody>\n",
       "    <tr>\n",
       "      <th>Shorthand</th>\n",
       "      <td>c</td>\n",
       "      <td>s</td>\n",
       "      <td>g</td>\n",
       "      <td>crs</td>\n",
       "      <td>e</td>\n",
       "      <td>d</td>\n",
       "      <td>p</td>\n",
       "      <td>clr</td>\n",
       "      <td>chp</td>\n",
       "    </tr>\n",
       "    <tr>\n",
       "      <th>Qty</th>\n",
       "      <td>58</td>\n",
       "      <td>40</td>\n",
       "      <td>30</td>\n",
       "      <td>10</td>\n",
       "      <td>8</td>\n",
       "      <td>8</td>\n",
       "      <td>8</td>\n",
       "      <td>10</td>\n",
       "      <td>8</td>\n",
       "    </tr>\n",
       "    <tr>\n",
       "      <th>Cost</th>\n",
       "      <td>1</td>\n",
       "      <td>3</td>\n",
       "      <td>6</td>\n",
       "      <td>0</td>\n",
       "      <td>2</td>\n",
       "      <td>5</td>\n",
       "      <td>8</td>\n",
       "      <td>2</td>\n",
       "      <td>2</td>\n",
       "    </tr>\n",
       "    <tr>\n",
       "      <th>Description</th>\n",
       "      <td></td>\n",
       "      <td></td>\n",
       "      <td></td>\n",
       "      <td></td>\n",
       "      <td></td>\n",
       "      <td></td>\n",
       "      <td></td>\n",
       "      <td>Discard any number of cards. +1 Card per card discarded.</td>\n",
       "      <td>Trash up to 4 cards from your hand.</td>\n",
       "    </tr>\n",
       "  </tbody>\n",
       "</table>\n",
       "</div>"
      ],
      "text/plain": [
       "            Copper Silver Gold Curse Estate Duchy Province  \\\n",
       "Shorthand    c      s      g    crs   e      d     p         \n",
       "Qty          58     40     30   10    8      8     8         \n",
       "Cost         1      3      6    0     2      5     8         \n",
       "Description                                                  \n",
       "\n",
       "                                                               Cellar  \\\n",
       "Shorthand    clr                                                        \n",
       "Qty          10                                                         \n",
       "Cost         2                                                          \n",
       "Description  Discard any number of cards. +1 Card per card discarded.   \n",
       "\n",
       "                                          Chapel  \n",
       "Shorthand    chp                                  \n",
       "Qty          8                                    \n",
       "Cost         2                                    \n",
       "Description  Trash up to 4 cards from your hand.  "
      ]
     },
     "metadata": {},
     "output_type": "display_data"
    },
    {
     "name": "stdin",
     "output_type": "stream",
     "text": [
      "You have 0 to spend on 1 buys. What would you like to buy? (card name or N/n) c\n"
     ]
    },
    {
     "name": "stdout",
     "output_type": "stream",
     "text": [
      "Cannot buy Copper with cost 1 with value 0.\n"
     ]
    },
    {
     "name": "stdin",
     "output_type": "stream",
     "text": [
      "You have 0 to spend on 1 buys. What would you like to buy? (card name or N/n) n\n"
     ]
    },
    {
     "name": "stdout",
     "output_type": "stream",
     "text": [
      "Playing Actions...\n",
      "+-------------+  +-------------+  +-------------+  +-------------+  +-------------+\n",
      "|             |  |             |  |             |  |             |  |             |\n",
      "|    Estate   |  |    Copper   |  |    Copper   |  |    Copper   |  |    Chapel   |\n",
      "|             |  |             |  |             |  |             |  |             |\n",
      "|   +0 Card   |  |   +0 Card   |  |   +0 Card   |  |   +0 Card   |  |   +0 Card   |\n",
      "|  +0 Action  |  |  +0 Action  |  |  +0 Action  |  |  +0 Action  |  |  +0 Action  |\n",
      "|    +0 Buy   |  |    +0 Buy   |  |    +0 Buy   |  |    +0 Buy   |  |    +0 Buy   |\n",
      "|      +0     |  |      +1     |  |      +1     |  |      +1     |  |      +0     |\n",
      "|             |  |             |  |             |  |             |  |             |\n",
      "| 2           |  | 0           |  | 0           |  | 0           |  | 2           |\n",
      "+-------------+  +-------------+  +-------------+  +-------------+  +-------------+\n"
     ]
    }
   ],
   "source": [
    "for i in range(5):\n",
    "    p.take_turn(s)"
   ]
  },
  {
   "cell_type": "code",
   "execution_count": null,
   "id": "f938096f-2af3-47ab-be6e-272cd12a3172",
   "metadata": {},
   "outputs": [],
   "source": []
  }
 ],
 "metadata": {
  "kernelspec": {
   "display_name": "Python 3 (ipykernel)",
   "language": "python",
   "name": "python3"
  },
  "language_info": {
   "codemirror_mode": {
    "name": "ipython",
    "version": 3
   },
   "file_extension": ".py",
   "mimetype": "text/x-python",
   "name": "python",
   "nbconvert_exporter": "python",
   "pygments_lexer": "ipython3",
   "version": "3.12.3"
  }
 },
 "nbformat": 4,
 "nbformat_minor": 5
}
